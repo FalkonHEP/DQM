{
 "cells": [
  {
   "cell_type": "code",
   "execution_count": 20,
   "metadata": {},
   "outputs": [],
   "source": [
    "import numpy as np\n",
    "import matplotlib.pyplot as plt\n",
    "import pandas as pd\n",
    "import time\n",
    "\n",
    "import torch\n",
    "\n",
    "from falkon import LogisticFalkon\n",
    "\n",
    "from utils import read_data, get_data_path, standardize, get_logflk_config, plot_reco"
   ]
  },
  {
   "cell_type": "code",
   "execution_count": 2,
   "metadata": {},
   "outputs": [],
   "source": [
    "# load data\n",
    "features = ['t_1','t_2','t_3','t_4','theta'] #,'n_hits']\n",
    "data_key = \"Thr 75%\" #[\"Thr 75%\",\"Thr 50%\",\"Thr 25%\",\"Ca 75%\",\"Ca 50%\",\"Ca 25%\"]\n",
    "\n",
    "reference_path = get_data_path(\"Ref\")\n",
    "data_keys = [\"Thr 75%\"] #[\"Ref\",\"Thr 75%\",\"Thr 50%\",\"Thr 25%\",\"Ca 75%\",\"Ca 50%\",\"Ca 25%\"]\n",
    "\n",
    "reference = read_data(reference_path,features=features,\n",
    "                      rnd=np.random.default_rng(0))\n",
    "data = read_data(get_data_path(data_key),features=features,\n",
    "                        rnd=np.random.default_rng(1))\n"
   ]
  },
  {
   "cell_type": "code",
   "execution_count": 3,
   "metadata": {},
   "outputs": [],
   "source": [
    "# data parameters\n",
    "N0=2000\n",
    "N1=500\n",
    "N = N0+N1\n",
    "weight=N1/N0\n",
    "\n",
    "ref_weights = weight*np.ones((N0,1))\n",
    "data_weights = np.ones((N1,1))"
   ]
  },
  {
   "cell_type": "code",
   "execution_count": 5,
   "metadata": {},
   "outputs": [],
   "source": [
    "# initialize dataset\n",
    "X = np.zeros(shape=(N,len(features)))\n",
    "X[:N0,:] = np.random.default_rng().choice(reference,size=N0,replace=False)\n",
    "X[N0:N0+N1,:] = np.random.default_rng().choice(data,size=N1,replace=False)\n",
    "\n",
    "Xnorm = standardize(X)\n",
    "\n",
    "Y = np.zeros(shape=(N,1))\n",
    "Y[N0:,:] = np.ones((N1,1))\n",
    "\n",
    "Xtorch = torch.from_numpy(Xnorm)\n",
    "Ytorch = torch.from_numpy(Y)"
   ]
  },
  {
   "cell_type": "code",
   "execution_count": 25,
   "metadata": {},
   "outputs": [],
   "source": [
    "# hyperparameters\n",
    "M = 2500\n",
    "flk_sigma = 2\n",
    "lam = 1e-10\n",
    "\n",
    "flk_config = get_logflk_config(M,flk_sigma,[lam],weight=weight,iter=[100000],seed=None,cpu=False)\n",
    "model = LogisticFalkon(**flk_config)"
   ]
  },
  {
   "cell_type": "code",
   "execution_count": 26,
   "metadata": {},
   "outputs": [
    {
     "name": "stdout",
     "output_type": "stream",
     "text": [
      "Iteration 0 - penalty 1.000000e-10 - sub-iterations 100000\n",
      "t = 875.3184722200967, training time = 180.19 sec\n"
     ]
    }
   ],
   "source": [
    "# train, predict and compute loglikelihood-ratio\n",
    "st_time = time.time()\n",
    "model.fit(Xtorch, Ytorch)\n",
    "dt = round(time.time()-st_time,2)\n",
    "preds = model.predict(Xtorch).numpy()\n",
    "t = 2 * np.sum(preds[Y.flatten()==1])\n",
    "\n",
    "print(f\"t = {t}, training time = {dt} sec\")"
   ]
  },
  {
   "cell_type": "code",
   "execution_count": null,
   "metadata": {},
   "outputs": [],
   "source": []
  }
 ],
 "metadata": {
  "kernelspec": {
   "display_name": "FalkonHEPv2",
   "language": "python",
   "name": "python3"
  },
  "language_info": {
   "codemirror_mode": {
    "name": "ipython",
    "version": 3
   },
   "file_extension": ".py",
   "mimetype": "text/x-python",
   "name": "python",
   "nbconvert_exporter": "python",
   "pygments_lexer": "ipython3",
   "version": "3.9.7"
  },
  "orig_nbformat": 4
 },
 "nbformat": 4,
 "nbformat_minor": 2
}
